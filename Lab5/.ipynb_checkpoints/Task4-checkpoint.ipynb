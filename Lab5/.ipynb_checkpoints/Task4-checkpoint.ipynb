{
 "cells": [
  {
   "cell_type": "code",
   "execution_count": 1,
   "metadata": {
    "collapsed": false
   },
   "outputs": [
    {
     "name": "stdout",
     "output_type": "stream",
     "text": [
      "Populating the interactive namespace from numpy and matplotlib\n"
     ]
    }
   ],
   "source": [
    "%pylab inline\n",
    "rcParams['figure.figsize'] = (20, 12)"
   ]
  },
  {
   "cell_type": "code",
   "execution_count": 2,
   "metadata": {
    "collapsed": true
   },
   "outputs": [],
   "source": [
    "import numpy\n",
    "from scipy import ndimage\n",
    "import imageio"
   ]
  },
  {
   "cell_type": "code",
   "execution_count": 3,
   "metadata": {
    "collapsed": true
   },
   "outputs": [],
   "source": [
    "probePath = './probes/rnl_probe.npy'\n",
    "probe = numpy.load(probePath)"
   ]
  },
  {
   "cell_type": "code",
   "execution_count": 4,
   "metadata": {
    "collapsed": false
   },
   "outputs": [],
   "source": [
    "lightDirections = numpy.loadtxt('./knight_fighting/light_directions.txt')\n",
    "lightIntensities = numpy.loadtxt('./knight_fighting/light_intensities.txt')\n",
    "dataLen = len(lightDirections)"
   ]
  },
  {
   "cell_type": "code",
   "execution_count": 5,
   "metadata": {
    "collapsed": true
   },
   "outputs": [],
   "source": [
    "data = []\n",
    "for i in range(dataLen):\n",
    "    filePath = './knight_fighting/data/knight_fighting_%03d.png' % i\n",
    "    data.append(ndimage.imread(filePath))"
   ]
  },
  {
   "cell_type": "code",
   "execution_count": 6,
   "metadata": {
    "collapsed": true
   },
   "outputs": [],
   "source": [
    "dx = lightDirections.T[1]\n",
    "dy = lightDirections.T[2]\n",
    "dz = lightDirections.T[3]\n",
    "r = (1 / numpy.pi) * numpy.arccos(dz) / numpy.sqrt(dx ** 2 + dy ** 2)\n",
    "u = (dx * r + 1.) / 2.\n",
    "v = (dy * r + 1.) / 2."
   ]
  },
  {
   "cell_type": "code",
   "execution_count": 7,
   "metadata": {
    "collapsed": true
   },
   "outputs": [],
   "source": [
    "def computeProbeColours():\n",
    "    up = u * probe.shape[0]\n",
    "    vp = v * probe.shape[1]\n",
    "    \n",
    "    return map(lambda i: probe[up[i]][vp[i]] * lightIntensities[i][1:], range(dataLen))"
   ]
  },
  {
   "cell_type": "code",
   "execution_count": 8,
   "metadata": {
    "collapsed": true
   },
   "outputs": [],
   "source": [
    "def colourImage(dataIndex, probeColours):\n",
    "    image = data[dataIndex]\n",
    "    return image * probeColours[dataIndex]"
   ]
  },
  {
   "cell_type": "code",
   "execution_count": 9,
   "metadata": {
    "collapsed": true
   },
   "outputs": [],
   "source": [
    "def relight():\n",
    "    probeColours = computeProbeColours()\n",
    "    colouredImages = map(lambda i: colourImage(i, probeColours), range(dataLen))\n",
    "    return numpy.sum(colouredImages, axis = 0)"
   ]
  },
  {
   "cell_type": "code",
   "execution_count": 10,
   "metadata": {
    "collapsed": false
   },
   "outputs": [
    {
     "name": "stderr",
     "output_type": "stream",
     "text": [
      "D:\\programy\\Anaconda2\\lib\\site-packages\\ipykernel\\__main__.py:5: VisibleDeprecationWarning: using a non-integer number instead of an integer will result in an error in the future\n",
      "WARNING:root:IMAGEIO FFMPEG_WRITER WARNING: input image is not divisible by macro_block_size=16, resizing from (1200L, 900L) to (1200L, 912L) to ensure video compatibility with most codecs and players. To prevent resizing, make your input image divisible by the macro_block_size or set the macro_block_size to None (risking incompatibility). You may also see a FFMPEG warning concerning speedloss due to data not being aligned.\n"
     ]
    },
    {
     "name": "stdout",
     "output_type": "stream",
     "text": [
      "New frame has been rendered (0.000000).\n",
      "New frame has been rendered (10.000000).\n",
      "New frame has been rendered (20.000000).\n",
      "New frame has been rendered (30.000000).\n",
      "New frame has been rendered (40.000000).\n",
      "New frame has been rendered (50.000000).\n",
      "New frame has been rendered (60.000000).\n",
      "New frame has been rendered (70.000000).\n",
      "New frame has been rendered (80.000000).\n",
      "New frame has been rendered (90.000000).\n",
      "New frame has been rendered (100.000000).\n",
      "New frame has been rendered (110.000000).\n",
      "New frame has been rendered (120.000000).\n",
      "New frame has been rendered (130.000000).\n",
      "New frame has been rendered (140.000000).\n",
      "New frame has been rendered (150.000000).\n",
      "New frame has been rendered (160.000000).\n",
      "New frame has been rendered (170.000000).\n",
      "New frame has been rendered (180.000000).\n",
      "New frame has been rendered (190.000000).\n",
      "New frame has been rendered (200.000000).\n",
      "New frame has been rendered (210.000000).\n",
      "New frame has been rendered (220.000000).\n",
      "New frame has been rendered (230.000000).\n",
      "New frame has been rendered (240.000000).\n",
      "New frame has been rendered (250.000000).\n",
      "New frame has been rendered (260.000000).\n",
      "New frame has been rendered (270.000000).\n",
      "New frame has been rendered (280.000000).\n",
      "New frame has been rendered (290.000000).\n",
      "New frame has been rendered (300.000000).\n",
      "New frame has been rendered (310.000000).\n",
      "New frame has been rendered (320.000000).\n",
      "New frame has been rendered (330.000000).\n",
      "New frame has been rendered (340.000000).\n",
      "New frame has been rendered (350.000000).\n"
     ]
    }
   ],
   "source": [
    "stepAngle = 10.\n",
    "\n",
    "videoWriter = imageio.get_writer('./knight_fighting.mp4', fps = 8)\n",
    "\n",
    "for rotation in numpy.arange(0., 360., stepAngle):\n",
    "    probe = ndimage.rotate(probe, rotation, reshape = False)\n",
    "    newFrame = relight()\n",
    "    newFrame = newFrame / numpy.amax(newFrame)\n",
    "    \n",
    "    print 'New frame has been rendered (%f).' % rotation\n",
    "    \n",
    "    videoWriter.append_data(newFrame)\n",
    "    \n",
    "videoWriter.close()"
   ]
  },
  {
   "cell_type": "code",
   "execution_count": null,
   "metadata": {
    "collapsed": true
   },
   "outputs": [],
   "source": []
  }
 ],
 "metadata": {
  "kernelspec": {
   "display_name": "Python [conda root]",
   "language": "python",
   "name": "conda-root-py"
  },
  "language_info": {
   "codemirror_mode": {
    "name": "ipython",
    "version": 2
   },
   "file_extension": ".py",
   "mimetype": "text/x-python",
   "name": "python",
   "nbconvert_exporter": "python",
   "pygments_lexer": "ipython2",
   "version": "2.7.12"
  }
 },
 "nbformat": 4,
 "nbformat_minor": 1
}
