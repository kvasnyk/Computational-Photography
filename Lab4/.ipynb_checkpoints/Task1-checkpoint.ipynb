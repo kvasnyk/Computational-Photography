{
 "cells": [
  {
   "cell_type": "code",
   "execution_count": 237,
   "metadata": {
    "collapsed": false
   },
   "outputs": [],
   "source": [
    "import imageio\n",
    "import numpy\n",
    "import math\n",
    "import os\n",
    "import matplotlib.image as mpimg\n",
    "import matplotlib.pyplot as pyplot\n",
    "import scipy"
   ]
  },
  {
   "cell_type": "code",
   "execution_count": 238,
   "metadata": {
    "collapsed": true
   },
   "outputs": [],
   "source": [
    "testSetPath = './faces/testset/'\n",
    "trainSetPath = './faces/trainset/'\n",
    "\n",
    "testImagesPaths = map(lambda path: testSetPath + path, os.listdir(testSetPath))\n",
    "trainImagesPaths = map(lambda path: trainSetPath + path, os.listdir(trainSetPath))"
   ]
  },
  {
   "cell_type": "code",
   "execution_count": null,
   "metadata": {
    "collapsed": true
   },
   "outputs": [],
   "source": [
    "def grayscaleToRGB(image):\n",
    "    return numpy.array(map(lambda vector: map(lambda pixel: [pixel, pixel, pixel], vector), image))"
   ]
  },
  {
   "cell_type": "code",
   "execution_count": null,
   "metadata": {
    "collapsed": false
   },
   "outputs": [],
   "source": [
    "testImages = map(lambda path: grayscaleToRGB(ndimage.imread(path)), testImagesPaths)\n",
    "trainImages = map(lambda path: ndimage.imread(path), trainImagesPaths)"
   ]
  },
  {
   "cell_type": "code",
   "execution_count": null,
   "metadata": {
    "collapsed": true
   },
   "outputs": [],
   "source": [
    "def resizeToTiny(image):\n",
    "    return scipy.misc.imresize(image, (32, 32))"
   ]
  },
  {
   "cell_type": "code",
   "execution_count": null,
   "metadata": {
    "collapsed": false
   },
   "outputs": [],
   "source": [
    "tinyTestImages = map(lambda img: resizeToTiny(img), testImages)\n",
    "tinyTrainImages = map(lambda img: resizeToTiny(img), trainImages)"
   ]
  },
  {
   "cell_type": "code",
   "execution_count": null,
   "metadata": {
    "collapsed": true
   },
   "outputs": [],
   "source": [
    "def SSD(image1, image2):\n",
    "    return numpy.sum((image1 - image2) ** 2)"
   ]
  },
  {
   "cell_type": "code",
   "execution_count": null,
   "metadata": {
    "collapsed": true
   },
   "outputs": [],
   "source": [
    "def isInGrayscale(image):\n",
    "    for x in range(image.shape[1]):\n",
    "        for y in range(image.shape[0]):\n",
    "            if image[x][y][0] != image[x][y][1] or image[x][y][0] != image[x][y][2] or image[x][y][1] != image[x][y][2]:\n",
    "                return False\n",
    "            \n",
    "    return True"
   ]
  },
  {
   "cell_type": "code",
   "execution_count": null,
   "metadata": {
    "collapsed": true
   },
   "outputs": [],
   "source": [
    "def findMostSimilarImageIndex(image, imageDatabase):\n",
    "    minimum = 0\n",
    "    minimumIndex = -1\n",
    "    \n",
    "    for i in range(len(imageDatabase)):        \n",
    "        ssd = SSD(image, imageDatabase[i])\n",
    "        \n",
    "        if ssd < minimum or minimumIndex == -1:\n",
    "            minimum = ssd\n",
    "            minimumIndex = i\n",
    "            \n",
    "    return minimumIndex"
   ]
  },
  {
   "cell_type": "code",
   "execution_count": null,
   "metadata": {
    "collapsed": false
   },
   "outputs": [],
   "source": [
    "mostSimilarIndices = map(lambda img: findMostSimilarImageIndex(img, tinyTrainImages), tinyTestImages)\n",
    "mostSimilarTinyImages = map(lambda index: tinyTrainImages[index], mostSimilarIndices)\n",
    "mostSimilarImages = map(lambda index: trainImages[index], mostSimilarIndices)"
   ]
  },
  {
   "cell_type": "code",
   "execution_count": null,
   "metadata": {
    "collapsed": true
   },
   "outputs": [],
   "source": [
    "def RGBToYCbCr(image):\n",
    "    R = image[:, :, 0]\n",
    "    G = image[:, :, 1]\n",
    "    B = image[:, :, 2]\n",
    "    \n",
    "    Y = (0.257 * R) + (0.504 * G) + (0.098 * B) + 16\n",
    "    Cr = (0.439 * R) - (0.368 * G) - (0.071 * B) + 128\n",
    "    Cb = -(0.148 * R) - (0.291 * G) + (0.439 * B) + 128\n",
    "    \n",
    "    result = numpy.empty(shape=(image.shape[0], image.shape[1], 3))\n",
    "    result[:, :, 0] = Y\n",
    "    result[:, :, 1] = Cr\n",
    "    result[:, :, 2] = Cb\n",
    "    \n",
    "    return result"
   ]
  },
  {
   "cell_type": "code",
   "execution_count": null,
   "metadata": {
    "collapsed": true
   },
   "outputs": [],
   "source": [
    "def YCbCrToRGB(image):\n",
    "    Y = image[:, :, 0]\n",
    "    Cr = image[:, :, 1]\n",
    "    Cb = image[:, :, 2]\n",
    "    \n",
    "    B = 1.164 * (Y - 16) + 2.018 * (Cb - 128)\n",
    "    G = 1.164 * (Y - 16) - 0.813 * (Cr - 128) - 0.391 * (Cb - 128)\n",
    "    R = 1.164 * (Y - 16) + 1.596 * (Cr - 128)\n",
    "    \n",
    "    result = numpy.empty(shape=(image.shape[0], image.shape[1], 3)).astype(uint8)\n",
    "    result[:, :, 0] = R\n",
    "    result[:, :, 1] = G\n",
    "    result[:, :, 2] = B\n",
    "    \n",
    "    return result"
   ]
  },
  {
   "cell_type": "code",
   "execution_count": null,
   "metadata": {
    "collapsed": false
   },
   "outputs": [],
   "source": [
    "def transferColours(inImage, colImage):\n",
    "    resizedColImage = scipy.misc.imresize(colImage, (inImage.shape[0], inImage.shape[1]))\n",
    "    \n",
    "    yccInImage = RGBToYCbCr(inImage)\n",
    "    yccColImage = RGBToYCbCr(resizedColImage)\n",
    "    \n",
    "    result = numpy.empty(shape=(inImage.shape[0], inImage.shape[1], 3))\n",
    "    result[:, :, 0] = yccInImage[:, :, 0]\n",
    "    result[:, :, 1] = yccColImage[:, :, 1]\n",
    "    result[:, :, 2] = yccColImage[:, :, 2]\n",
    "    \n",
    "    return YCbCrToRGB(result)"
   ]
  },
  {
   "cell_type": "code",
   "execution_count": null,
   "metadata": {
    "collapsed": false
   },
   "outputs": [],
   "source": [
    "colTestImages = []\n",
    "for i in range(len(testImages)):\n",
    "    inImage = testImages[i]\n",
    "    colImage = mostSimilarImages[i]\n",
    "    \n",
    "    result = transferColours(inImage, colImage)\n",
    "    colTestImages.append(result)"
   ]
  },
  {
   "cell_type": "code",
   "execution_count": null,
   "metadata": {
    "collapsed": false,
    "scrolled": false
   },
   "outputs": [],
   "source": [
    "if not os.path.exists('./results/'):\n",
    "    os.mkdir('./results/')\n",
    "if not os.path.exists('./results/Task1/'):\n",
    "    os.mkdir('./results/Task1/')\n",
    "if not os.path.exists('./results/Task1/YCbCr'):\n",
    "    os.mkdir('./results/Task1/YCbCr')\n",
    "\n",
    "for i in range(len(testImages)):\n",
    "    colTestImagePath = './results/Task1/YCbCr/' + os.listdir(testSetPath)[i]\n",
    "    scipy.misc.imsave(colTestImagePath, colTestImages[i])\n",
    "    \n",
    "    if i >= 5:\n",
    "        continue\n",
    "    \n",
    "    pyplot.figure()\n",
    "    \n",
    "    pyplot.subplot(1, 5, 1)\n",
    "    pyplot.axis('off')\n",
    "    pyplot.imshow(testImages[i])\n",
    "    \n",
    "    pyplot.subplot(1, 5, 2)\n",
    "    pyplot.axis('off')\n",
    "    pyplot.imshow(tinyTestImages[i])\n",
    "    \n",
    "    pyplot.subplot(1, 5, 3)\n",
    "    pyplot.axis('off')\n",
    "    pyplot.imshow(mostSimilarTinyImages[i])\n",
    "    \n",
    "    pyplot.subplot(1, 5, 4)\n",
    "    pyplot.axis('off')\n",
    "    pyplot.imshow(mostSimilarImages[i])\n",
    "    \n",
    "    pyplot.subplot(1, 5, 5)\n",
    "    pyplot.axis('off')\n",
    "    pyplot.imshow(colTestImages[i])"
   ]
  },
  {
   "cell_type": "code",
   "execution_count": null,
   "metadata": {
    "collapsed": true
   },
   "outputs": [],
   "source": [
    "def findMostSimilarImageIndexFilterGrayscale(image, imageDatabase):\n",
    "    minimum = 0\n",
    "    minimumIndex = -1\n",
    "    \n",
    "    for i in range(len(imageDatabase)):        \n",
    "        ssd = SSD(image, imageDatabase[i])\n",
    "        \n",
    "        if ssd < minimum or minimumIndex == -1:\n",
    "            minimum = ssd\n",
    "            minimumIndex = i\n",
    "            \n",
    "    return minimumIndex"
   ]
  },
  {
   "cell_type": "code",
   "execution_count": null,
   "metadata": {
    "collapsed": true
   },
   "outputs": [],
   "source": [
    "mostSimilarIndicesFilterGrayscale = map(lambda img: findMostSimilarImageIndexFilterGrayscale(img, tinyTrainImages), tinyTestImages)\n",
    "mostSimilarTinyImagesFilterGrayscale = map(lambda index: tinyTrainImages[index], mostSimilarIndicesFilterGrayscale)\n",
    "mostSimilarImagesFilterGrayscale = map(lambda index: trainImages[index], mostSimilarIndicesFilterGrayscale)"
   ]
  },
  {
   "cell_type": "code",
   "execution_count": null,
   "metadata": {
    "collapsed": true
   },
   "outputs": [],
   "source": [
    "colTestImagesFilterGrayscale = []\n",
    "for i in range(len(testImages)):\n",
    "    inImage = testImages[i]\n",
    "    colImage = mostSimilarImagesFilterGrayscale[i]\n",
    "    \n",
    "    result = transferColours(inImage, colImage)\n",
    "    colTestImages.append(result)"
   ]
  },
  {
   "cell_type": "code",
   "execution_count": null,
   "metadata": {
    "collapsed": true
   },
   "outputs": [],
   "source": [
    "if not os.path.exists('./results/'):\n",
    "    os.mkdir('./results/')\n",
    "if not os.path.exists('./results/Task1/'):\n",
    "    os.mkdir('./results/Task1/')\n",
    "if not os.path.exists('./results/Task1/YCbCrFilterGrayscale'):\n",
    "    os.mkdir('./results/Task1/YCbCrFilterGrayscale')\n",
    "\n",
    "for i in range(len(testImages)):\n",
    "    colTestImagePath = './results/Task1/YCbCrFilterGrayscale/' + os.listdir(testSetPath)[i]\n",
    "    scipy.misc.imsave(colTestImagePath, colTestImagesFilterGrayscale[i])\n",
    "    \n",
    "    if i >= 5:\n",
    "        continue\n",
    "    \n",
    "    pyplot.figure()\n",
    "    \n",
    "    pyplot.subplot(1, 5, 1)\n",
    "    pyplot.axis('off')\n",
    "    pyplot.imshow(testImages[i])\n",
    "    \n",
    "    pyplot.subplot(1, 5, 2)\n",
    "    pyplot.axis('off')\n",
    "    pyplot.imshow(tinyTestImages[i])\n",
    "    \n",
    "    pyplot.subplot(1, 5, 3)\n",
    "    pyplot.axis('off')\n",
    "    pyplot.imshow(mostSimilarTinyImagesFilterGrayscale[i])\n",
    "    \n",
    "    pyplot.subplot(1, 5, 4)\n",
    "    pyplot.axis('off')\n",
    "    pyplot.imshow(mostSimilarImagesFilterGrayscale[i])\n",
    "    \n",
    "    pyplot.subplot(1, 5, 5)\n",
    "    pyplot.axis('off')\n",
    "    pyplot.imshow(colTestImagesFilterGrayscale[i])"
   ]
  }
 ],
 "metadata": {
  "anaconda-cloud": {},
  "kernelspec": {
   "display_name": "Python [conda root]",
   "language": "python",
   "name": "conda-root-py"
  },
  "language_info": {
   "codemirror_mode": {
    "name": "ipython",
    "version": 2
   },
   "file_extension": ".py",
   "mimetype": "text/x-python",
   "name": "python",
   "nbconvert_exporter": "python",
   "pygments_lexer": "ipython2",
   "version": "2.7.12"
  }
 },
 "nbformat": 4,
 "nbformat_minor": 1
}
