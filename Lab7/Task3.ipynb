{
 "cells": [
  {
   "cell_type": "code",
   "execution_count": 124,
   "metadata": {
    "collapsed": false
   },
   "outputs": [
    {
     "name": "stdout",
     "output_type": "stream",
     "text": [
      "Populating the interactive namespace from numpy and matplotlib\n"
     ]
    }
   ],
   "source": [
    "%pylab inline\n",
    "rcParams['figure.figsize'] = (20, 12)"
   ]
  },
  {
   "cell_type": "code",
   "execution_count": 125,
   "metadata": {
    "collapsed": true
   },
   "outputs": [],
   "source": [
    "import numpy\n",
    "from scipy import ndimage\n",
    "from scipy import misc\n",
    "import imageio"
   ]
  },
  {
   "cell_type": "code",
   "execution_count": 126,
   "metadata": {
    "collapsed": true
   },
   "outputs": [],
   "source": [
    "inputNames = [\n",
    "    'matrioska.jpg'\n",
    "]\n",
    "\n",
    "inputSizes = [\n",
    "    9\n",
    "]"
   ]
  },
  {
   "cell_type": "code",
   "execution_count": 127,
   "metadata": {
    "collapsed": true
   },
   "outputs": [],
   "source": [
    "inputs = map(lambda name: ndimage.imread('./data/' + name) / 255.0, inputNames)"
   ]
  },
  {
   "cell_type": "code",
   "execution_count": 128,
   "metadata": {
    "collapsed": false
   },
   "outputs": [],
   "source": [
    "def splitLightField(lightField, size):\n",
    "    lightFieldWidth = lightField.shape[1]\n",
    "    lightFieldHeight = lightField.shape[0]\n",
    "    \n",
    "    imageWidth = lightFieldWidth / size\n",
    "    imageHeight = lightFieldHeight / size\n",
    "    \n",
    "    result = np.zeros([size, size, imageHeight, imageWidth, 3])\n",
    "    \n",
    "    for i in range(size):\n",
    "        for j in range(size):\n",
    "            iStart = i * imageHeight\n",
    "            iEnd = (i + 1) * imageHeight\n",
    "            jStart = j * imageWidth\n",
    "            jEnd = (j + 1) * imageWidth\n",
    "            result[i][j] = lightField[iStart : iEnd, jStart : jEnd]\n",
    "    \n",
    "    return result"
   ]
  },
  {
   "cell_type": "code",
   "execution_count": 129,
   "metadata": {
    "collapsed": true
   },
   "outputs": [],
   "source": [
    "def focalStack(lightField, size, shift, r):\n",
    "    lightFieldWidth = lightField.shape[1]\n",
    "    lightFieldHeight = lightField.shape[0]\n",
    "    \n",
    "    images = splitLightField(lightField, size)\n",
    "    \n",
    "    imageWidth = images[0][0].shape[1]\n",
    "    imageHeight = images[0][0].shape[0]\n",
    "    \n",
    "    for i in range(size):\n",
    "        for j in range(size):\n",
    "            h = shift * (size / 2 - i)\n",
    "            v = shift * (size / 2 - j)\n",
    "            images[i, j] = ndimage.interpolation.shift(images[i, j], (h, v, 0), order = 1)\n",
    "            \n",
    "    result = np.zeros([imageHeight, imageWidth, 3])\n",
    "    \n",
    "    for i in range(size / 2 - r, size / 2 + r + 1):\n",
    "        for j in range(size / 2 - r, size / 2 + r + 1):\n",
    "            result += images[i, j]\n",
    "            \n",
    "    result *= 1.0 / float((1 + r * 2) ** 2)\n",
    "    \n",
    "    return result"
   ]
  },
  {
   "cell_type": "code",
   "execution_count": 130,
   "metadata": {
    "collapsed": true
   },
   "outputs": [],
   "source": [
    "def focalStackFrames(lightField, size, shifts, r):\n",
    "    frames = []\n",
    "    \n",
    "    for i in range(len(shifts)):\n",
    "        s = shifts[i]\n",
    "        frame = focalStack(lightField, size, s, r)\n",
    "        frames.append(frame)\n",
    "        print 'Frame %d/%d has been rendered.' % (i + 1, len(shifts))\n",
    "        \n",
    "    return frames"
   ]
  },
  {
   "cell_type": "code",
   "execution_count": 131,
   "metadata": {
    "collapsed": true
   },
   "outputs": [],
   "source": [
    "def saveMovie(frames, path):\n",
    "    writer = imageio.get_writer(path, fps = 2)\n",
    "    for frame in frames:\n",
    "        writer.append_data(frame)\n",
    "    writer.close()"
   ]
  },
  {
   "cell_type": "code",
   "execution_count": 132,
   "metadata": {
    "collapsed": false
   },
   "outputs": [
    {
     "name": "stdout",
     "output_type": "stream",
     "text": [
      "Frame 1/50 has been rendered.\n",
      "Frame 2/50 has been rendered.\n",
      "Frame 3/50 has been rendered.\n",
      "Frame 4/50 has been rendered.\n",
      "Frame 5/50 has been rendered.\n",
      "Frame 6/50 has been rendered.\n",
      "Frame 7/50 has been rendered.\n",
      "Frame 8/50 has been rendered.\n",
      "Frame 9/50 has been rendered.\n",
      "Frame 10/50 has been rendered.\n",
      "Frame 11/50 has been rendered.\n",
      "Frame 12/50 has been rendered.\n",
      "Frame 13/50 has been rendered.\n",
      "Frame 14/50 has been rendered.\n",
      "Frame 15/50 has been rendered.\n",
      "Frame 16/50 has been rendered.\n",
      "Frame 17/50 has been rendered.\n",
      "Frame 18/50 has been rendered.\n",
      "Frame 19/50 has been rendered.\n",
      "Frame 20/50 has been rendered.\n",
      "Frame 21/50 has been rendered.\n",
      "Frame 22/50 has been rendered.\n",
      "Frame 23/50 has been rendered.\n",
      "Frame 24/50 has been rendered.\n",
      "Frame 25/50 has been rendered.\n",
      "Frame 26/50 has been rendered.\n",
      "Frame 27/50 has been rendered.\n",
      "Frame 28/50 has been rendered.\n",
      "Frame 29/50 has been rendered.\n",
      "Frame 30/50 has been rendered.\n",
      "Frame 31/50 has been rendered.\n",
      "Frame 32/50 has been rendered.\n",
      "Frame 33/50 has been rendered.\n",
      "Frame 34/50 has been rendered.\n",
      "Frame 35/50 has been rendered.\n",
      "Frame 36/50 has been rendered.\n",
      "Frame 37/50 has been rendered.\n",
      "Frame 38/50 has been rendered.\n",
      "Frame 39/50 has been rendered.\n",
      "Frame 40/50 has been rendered.\n",
      "Frame 41/50 has been rendered.\n",
      "Frame 42/50 has been rendered.\n",
      "Frame 43/50 has been rendered.\n",
      "Frame 44/50 has been rendered.\n",
      "Frame 45/50 has been rendered.\n",
      "Frame 46/50 has been rendered.\n",
      "Frame 47/50 has been rendered.\n",
      "Frame 48/50 has been rendered.\n",
      "Frame 49/50 has been rendered.\n",
      "Frame 50/50 has been rendered.\n"
     ]
    }
   ],
   "source": [
    "for i in range(len(inputs)):\n",
    "    lightField = inputs[i]\n",
    "    lightFieldSize = inputSizes[i]\n",
    "    \n",
    "    shifts = numpy.arange(-2.5, 2.5, 0.1)\n",
    "    r = 4\n",
    "    \n",
    "    frames = focalStackFrames(lightField, lightFieldSize, shifts, 4)\n",
    "    path = './movies/' + inputNames[i] + '.mp4'\n",
    "    saveMovie(frames, path)"
   ]
  },
  {
   "cell_type": "code",
   "execution_count": null,
   "metadata": {
    "collapsed": true
   },
   "outputs": [],
   "source": []
  }
 ],
 "metadata": {
  "kernelspec": {
   "display_name": "Python [conda root]",
   "language": "python",
   "name": "conda-root-py"
  },
  "language_info": {
   "codemirror_mode": {
    "name": "ipython",
    "version": 2
   },
   "file_extension": ".py",
   "mimetype": "text/x-python",
   "name": "python",
   "nbconvert_exporter": "python",
   "pygments_lexer": "ipython2",
   "version": "2.7.12"
  }
 },
 "nbformat": 4,
 "nbformat_minor": 1
}
