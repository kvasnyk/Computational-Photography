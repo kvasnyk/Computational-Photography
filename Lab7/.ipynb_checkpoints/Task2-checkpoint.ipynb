{
 "cells": [
  {
   "cell_type": "code",
   "execution_count": 6,
   "metadata": {
    "collapsed": false
   },
   "outputs": [
    {
     "name": "stdout",
     "output_type": "stream",
     "text": [
      "Populating the interactive namespace from numpy and matplotlib\n"
     ]
    }
   ],
   "source": [
    "%pylab inline\n",
    "rcParams['figure.figsize'] = (20, 12)"
   ]
  },
  {
   "cell_type": "code",
   "execution_count": 7,
   "metadata": {
    "collapsed": true
   },
   "outputs": [],
   "source": [
    "import numpy\n",
    "from scipy import ndimage\n",
    "from scipy import misc\n",
    "import imageio"
   ]
  },
  {
   "cell_type": "code",
   "execution_count": 8,
   "metadata": {
    "collapsed": true
   },
   "outputs": [],
   "source": [
    "inputNames = [\n",
    "    'matrioska.jpg',\n",
    "    'motorbike16.jpg',\n",
    "    'sanmiguel.jpg'\n",
    "]\n",
    "\n",
    "inputSizes = [\n",
    "    9,\n",
    "    9,\n",
    "    17\n",
    "]"
   ]
  },
  {
   "cell_type": "code",
   "execution_count": 9,
   "metadata": {
    "collapsed": true
   },
   "outputs": [],
   "source": [
    "inputs = map(lambda name: ndimage.imread('./data/' + name), inputNames)"
   ]
  },
  {
   "cell_type": "code",
   "execution_count": null,
   "metadata": {
    "collapsed": true
   },
   "outputs": [],
   "source": [
    "def lightFieldSlice(lightField, size):\n",
    "    lightFieldWidth = lightField.shape[1]\n",
    "    lightFieldHeight = lightField.shape[0]\n",
    "    \n",
    "    imageWidth = lightFieldWidth / size\n",
    "    imageHeight = lightFieldHeight / size\n",
    "    \n",
    "    resultWidth = imageWidth\n",
    "    resultHeight = size\n",
    "    \n",
    "    result = numpy.zeros([resultHeight, resultWidth, 3])\n",
    "    \n",
    "    return result"
   ]
  },
  {
   "cell_type": "code",
   "execution_count": null,
   "metadata": {
    "collapsed": true
   },
   "outputs": [],
   "source": [
    "for i in range(len(inputs)):\n",
    "    pyplot.figure()\n",
    "    pyplot.axis('off')\n",
    "    pyplot.imshow(inputs[i])\n",
    "    \n",
    "    result = lightFieldSlice(inputs[i], inputSizes[i])\n",
    "    \n",
    "    pyplot.figure()\n",
    "    pyplot.axis('off')\n",
    "    pyplot.imshow(result)\n",
    "    \n",
    "    resultPath = './slices/' + inputNames[i]\n",
    "    misc.imsave(resultPath, result)"
   ]
  }
 ],
 "metadata": {
  "kernelspec": {
   "display_name": "Python [conda root]",
   "language": "python",
   "name": "conda-root-py"
  },
  "language_info": {
   "codemirror_mode": {
    "name": "ipython",
    "version": 2
   },
   "file_extension": ".py",
   "mimetype": "text/x-python",
   "name": "python",
   "nbconvert_exporter": "python",
   "pygments_lexer": "ipython2",
   "version": "2.7.12"
  }
 },
 "nbformat": 4,
 "nbformat_minor": 1
}
