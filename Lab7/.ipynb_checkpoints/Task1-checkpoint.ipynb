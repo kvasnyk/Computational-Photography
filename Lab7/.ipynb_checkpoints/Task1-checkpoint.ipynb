{
 "cells": [
  {
   "cell_type": "code",
   "execution_count": 89,
   "metadata": {
    "collapsed": false
   },
   "outputs": [
    {
     "name": "stdout",
     "output_type": "stream",
     "text": [
      "Populating the interactive namespace from numpy and matplotlib\n"
     ]
    }
   ],
   "source": [
    "%pylab inline\n",
    "rcParams['figure.figsize'] = (20, 12)"
   ]
  },
  {
   "cell_type": "code",
   "execution_count": 90,
   "metadata": {
    "collapsed": true
   },
   "outputs": [],
   "source": [
    "import numpy\n",
    "from scipy import ndimage\n",
    "from scipy import misc\n",
    "import imageio"
   ]
  },
  {
   "cell_type": "code",
   "execution_count": 91,
   "metadata": {
    "collapsed": true
   },
   "outputs": [],
   "source": [
    "inputNames = [\n",
    "    'matrioska.jpg',\n",
    "    'motorbike16.jpg',\n",
    "    'sanmiguel.jpg'\n",
    "]\n",
    "\n",
    "inputSizes = [\n",
    "    9,\n",
    "    9,\n",
    "    17\n",
    "]"
   ]
  },
  {
   "cell_type": "code",
   "execution_count": 92,
   "metadata": {
    "collapsed": true
   },
   "outputs": [],
   "source": [
    "inputs = map(lambda name: ndimage.imread('./data/' + name), inputNames)"
   ]
  },
  {
   "cell_type": "code",
   "execution_count": null,
   "metadata": {
    "collapsed": true
   },
   "outputs": [],
   "source": [
    "def apertureView(lightField, size):\n",
    "    lightFieldWidth = lightField.shape[1]\n",
    "    lightFieldHeight = lightField.shape[0]\n",
    "    \n",
    "    imageWidth = lightFieldWidth / size\n",
    "    imageHeight = lightFieldHeight / size\n",
    "    \n",
    "    resultWidth = lightFieldWidth + imageWidth - 1\n",
    "    resultHeight = lightFieldHeight + imageHeight - 1\n",
    "    \n",
    "    result = numpy.zeros([resultHeight, resultWidth, 3])\n",
    "    \n",
    "    for i in range(imageHeight):\n",
    "        for j in range(imageWidth):\n",
    "            for x in range(size):\n",
    "                for y in range(size):\n",
    "                    result[i * (size + 1) + x][j * (size + 1) + y] = lightField[x * imageHeight + i][y * imageWidth + j]\n",
    "                    \n",
    "    for i in range(1, imageHeight):\n",
    "        for j in range(resultWidth):\n",
    "            result[i * (size + 1) - 1][j] = [255, 0, 0]\n",
    "            \n",
    "    for i in range(resultHeight):\n",
    "        for j in range(1, imageWidth):\n",
    "            result[i][j * (size + 1) - 1] = [255, 0, 0]\n",
    "    \n",
    "    return result.astype(uint8)"
   ]
  },
  {
   "cell_type": "code",
   "execution_count": null,
   "metadata": {
    "collapsed": false,
    "scrolled": false
   },
   "outputs": [],
   "source": [
    "for i in range(len(inputs)):\n",
    "    pyplot.figure()\n",
    "    pyplot.axis('off')\n",
    "    pyplot.imshow(inputs[i])\n",
    "    \n",
    "    apertureViewImage = apertureView(inputs[i], inputSizes[i])\n",
    "    \n",
    "    pyplot.figure()\n",
    "    pyplot.axis('off')\n",
    "    pyplot.imshow(apertureViewImage)\n",
    "    \n",
    "    apertureViewPath = './output/' + inputNames[i]\n",
    "    misc.imsave(apertureViewPath, apertureViewImage)"
   ]
  },
  {
   "cell_type": "code",
   "execution_count": null,
   "metadata": {
    "collapsed": true
   },
   "outputs": [],
   "source": []
  }
 ],
 "metadata": {
  "anaconda-cloud": {},
  "kernelspec": {
   "display_name": "Python [conda root]",
   "language": "python",
   "name": "conda-root-py"
  },
  "language_info": {
   "codemirror_mode": {
    "name": "ipython",
    "version": 2
   },
   "file_extension": ".py",
   "mimetype": "text/x-python",
   "name": "python",
   "nbconvert_exporter": "python",
   "pygments_lexer": "ipython2",
   "version": "2.7.12"
  }
 },
 "nbformat": 4,
 "nbformat_minor": 1
}
