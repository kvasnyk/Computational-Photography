{
 "cells": [
  {
   "cell_type": "code",
   "execution_count": 33,
   "metadata": {
    "collapsed": true
   },
   "outputs": [],
   "source": [
    "import imageio\n",
    "import numpy as np\n",
    "from scipy import ndimage"
   ]
  },
  {
   "cell_type": "code",
   "execution_count": 30,
   "metadata": {
    "collapsed": true
   },
   "outputs": [],
   "source": [
    "sec1TiffPaths = [\n",
    "    './sec1/tiff/1.tiff',\n",
    "    './sec1/tiff/2.tiff',\n",
    "    './sec1/tiff/3.tiff'\n",
    "]"
   ]
  },
  {
   "cell_type": "code",
   "execution_count": 31,
   "metadata": {
    "collapsed": true
   },
   "outputs": [],
   "source": [
    "sec1JpegPaths = [\n",
    "    './sec1/jpg/1.jpg',\n",
    "    './sec1/jpg/2.jpg',\n",
    "    './sec1/jpg/3.jpg'\n",
    "]"
   ]
  },
  {
   "cell_type": "code",
   "execution_count": 19,
   "metadata": {
    "collapsed": true
   },
   "outputs": [],
   "source": [
    "sec1ExpTimes = [\n",
    "    0.03333,\n",
    "    0.125,\n",
    "    0.5\n",
    "]"
   ]
  },
  {
   "cell_type": "code",
   "execution_count": 20,
   "metadata": {
    "collapsed": false
   },
   "outputs": [],
   "source": [
    "sec1Tiffs = map(lambda path: imageio.imread(path) / 65536.0, sec1TiffPaths)"
   ]
  },
  {
   "cell_type": "code",
   "execution_count": 34,
   "metadata": {
    "collapsed": false
   },
   "outputs": [],
   "source": [
    "sec1Jpegs = map(lambda path: ndimage.imread(path) / 256.0, sec1JpegPaths)"
   ]
  },
  {
   "cell_type": "code",
   "execution_count": 22,
   "metadata": {
    "collapsed": true
   },
   "outputs": [],
   "source": [
    "def w(images):\n",
    "    result = []\n",
    "    \n",
    "    for i in range(len(images)):\n",
    "        wMatrix = np.exp(-4 * ((images[i] - 0.5) ** 2) / (0.5 ** 2))\n",
    "        result.append(wMatrix)\n",
    "        \n",
    "    return result"
   ]
  },
  {
   "cell_type": "code",
   "execution_count": 35,
   "metadata": {
    "collapsed": true
   },
   "outputs": [],
   "source": [
    "sec1TiffWeights = w(sec1Tiffs)"
   ]
  },
  {
   "cell_type": "code",
   "execution_count": 36,
   "metadata": {
    "collapsed": true
   },
   "outputs": [],
   "source": [
    "sec1JpegWeights = w(sec1Jpegs)"
   ]
  },
  {
   "cell_type": "code",
   "execution_count": 26,
   "metadata": {
    "collapsed": true
   },
   "outputs": [],
   "source": [
    "def robHDR(images, weights, expTimes):\n",
    "    up = np.zeros(images[0].shape)\n",
    "    down = np.zeros(images[0].shape)\n",
    "    \n",
    "    for i in range(len(images)):\n",
    "        up += weights[i] * expTimes[i] * images[i]\n",
    "        down += weights[i] * (expTimes[i] ** 2)\n",
    "    \n",
    "    result = up / down\n",
    "    \n",
    "    return result"
   ]
  },
  {
   "cell_type": "code",
   "execution_count": 27,
   "metadata": {
    "collapsed": false
   },
   "outputs": [],
   "source": [
    "sec1TiffHDR = robHDR(sec1Tiffs, sec1TiffWeights, sec1ExpTimes)"
   ]
  },
  {
   "cell_type": "code",
   "execution_count": 37,
   "metadata": {
    "collapsed": true
   },
   "outputs": [],
   "source": [
    "sec1JpegHDR = robHDR(sec1Jpegs, sec1JpegWeights, sec1ExpTimes)"
   ]
  },
  {
   "cell_type": "code",
   "execution_count": 28,
   "metadata": {
    "collapsed": true
   },
   "outputs": [],
   "source": [
    "def saveHDR(filename, image):\n",
    "    f = open(filename, \"wb\")\n",
    "    f.write(\"#?RADIANCE\\n# Made with Python & Numpy\\nFORMAT=32-bit_rle_rgbe\\n\\n\")\n",
    "    f.write(\"-Y {0} +X {1}\\n\".format(image.shape[0], image.shape[1]))\n",
    "    \n",
    "    brightest = np.maximum(np.maximum(image[...,0], image[...,1]), image[...,2])\n",
    "    mantissa = np.zeros_like(brightest)\n",
    "    exponent = np.zeros_like(brightest)\n",
    "    np.frexp(brightest, mantissa, exponent)\n",
    "    scaled_mantissa = mantissa * 256.0 / brightest\n",
    "    rgbe = np.zeros((image.shape[0], image.shape[1], 4), dtype=np.uint8)\n",
    "    rgbe[...,0:3] = np.around(image[...,0:3] * scaled_mantissa[...,None])\n",
    "    rgbe[...,3] = np.around(exponent + 128)\n",
    "    \n",
    "    rgbe.flatten().tofile(f)\n",
    "    f.close()"
   ]
  },
  {
   "cell_type": "code",
   "execution_count": 29,
   "metadata": {
    "collapsed": true
   },
   "outputs": [],
   "source": [
    "saveHDR('./sec1/tiff/result.hdr', sec1TiffHDR)"
   ]
  },
  {
   "cell_type": "code",
   "execution_count": 38,
   "metadata": {
    "collapsed": true
   },
   "outputs": [],
   "source": [
    "saveHDR('./sec1/jpg/result.hdr', sec1JpegHDR)"
   ]
  },
  {
   "cell_type": "code",
   "execution_count": null,
   "metadata": {
    "collapsed": true
   },
   "outputs": [],
   "source": []
  }
 ],
 "metadata": {
  "anaconda-cloud": {},
  "kernelspec": {
   "display_name": "Python [conda root]",
   "language": "python",
   "name": "conda-root-py"
  },
  "language_info": {
   "codemirror_mode": {
    "name": "ipython",
    "version": 2
   },
   "file_extension": ".py",
   "mimetype": "text/x-python",
   "name": "python",
   "nbconvert_exporter": "python",
   "pygments_lexer": "ipython2",
   "version": "2.7.12"
  }
 },
 "nbformat": 4,
 "nbformat_minor": 1
}
